{
  "nbformat": 4,
  "nbformat_minor": 0,
  "metadata": {
    "colab": {
      "name": "Derivative valuations",
      "provenance": [],
      "authorship_tag": "ABX9TyNxuU62UXyUMQsrp0CYF0YY",
      "include_colab_link": true
    },
    "kernelspec": {
      "name": "python3",
      "display_name": "Python 3"
    }
  },
  "cells": [
    {
      "cell_type": "markdown",
      "metadata": {
        "id": "view-in-github",
        "colab_type": "text"
      },
      "source": [
        "<a href=\"https://colab.research.google.com/github/OscarUngsgard/Python-Financial-Engineering/blob/master/Derivative_valuations.ipynb\" target=\"_parent\"><img src=\"https://colab.research.google.com/assets/colab-badge.svg\" alt=\"Open In Colab\"/></a>"
      ]
    },
    {
      "cell_type": "code",
      "metadata": {
        "id": "wEKQPoX58P9X",
        "colab_type": "code",
        "cellView": "form",
        "colab": {}
      },
      "source": [
        "#@title Default title text\n",
        "Imports = \"\" #@param {type:\"string\"}\n",
        "#Imports\n",
        "from datetime import datetime\n",
        "from datetime import timedelta  \n",
        "!pip install workdays\n",
        "import workdays\n",
        "#import datetime\n",
        "from dateutil.relativedelta import relativedelta\n",
        "from collections import defaultdict\n",
        "import os\n",
        "import sys, os\n",
        "import io\n",
        "import warnings\n",
        "import math\n",
        "\n",
        "import numpy as np\n",
        "from numpy import linspace\n",
        "\n",
        "import random\n",
        "from random import choices\n",
        "\n",
        "import pandas as pd\n",
        "import pandas_datareader as pdr\n",
        "from pandas_datareader import data as wb\n",
        "import pandas_datareader.data as web\n",
        "from pandas.plotting import register_matplotlib_converters\n",
        "\n",
        "from matplotlib import pyplot as plt\n",
        "from matplotlib.pyplot import figure\n",
        "%matplotlib inline\n",
        "register_matplotlib_converters()\n",
        "\n",
        "\n",
        "from pylab import plot,show,hist,figure,title\n",
        "\n",
        "!pip install yfinance\n",
        "import yfinance as yf\n",
        "!pip install yahoo_fin\n",
        "from yahoo_fin import options\n",
        "yf.pdr_override()\n",
        "\n",
        "from scipy import stats\n",
        "from scipy.stats import norm\n",
        "from scipy.optimize import minimize\n",
        "from scipy.optimize import basinhopping\n",
        "\n",
        "import statsmodels\n",
        "import statsmodels.api as sm\n",
        "from statsmodels.tsa.seasonal import seasonal_decompose\n",
        "from statsmodels.tsa.stattools import adfuller"
      ],
      "execution_count": 0,
      "outputs": []
    },
    {
      "cell_type": "markdown",
      "metadata": {
        "id": "_cy1x9OX2XZu",
        "colab_type": "text"
      },
      "source": [
        "**Functions to read in stock data**"
      ]
    },
    {
      "cell_type": "code",
      "metadata": {
        "id": "JeDiImjA9FgV",
        "colab_type": "code",
        "colab": {}
      },
      "source": [
        "#Functions to read in stock data from Yahoo Finance\n",
        "def returns(YahooTickers, starttime = datetime.today()-relativedelta(months=+12)):   #format tickers = ['AXFO.ST','HM-B.ST','PCELL.ST','SOLT.ST']\n",
        "    mydata = pd.DataFrame()\n",
        "    for t in YahooTickers:\n",
        "        mydata[t] = yf.Ticker(t).history(start=starttime, end = datetime.today())[\"Close\"]\n",
        "        returns = np.log(mydata/mydata.shift(1))\n",
        "    #print(\"Number of null values filled: \")\n",
        "    #print(np.isnan(returns).sum())\n",
        "    returns.fillna(method='ffill', inplace=True) #NA = last value\n",
        "    returns = returns.apply(lambda x: x.fillna(x.mean()),axis=1) #NA = average of rows if never available.\n",
        "    return returns[1:]\n",
        "def today_value(YahooTickers):\n",
        "    mydata = pd.DataFrame()\n",
        "    for t in YahooTickers:\n",
        "        mydata[t] = yf.Ticker(t).history(start='2020-1-1', end = datetime.today())[\"Close\"]\n",
        "    return mydata.iloc[-1].values"
      ],
      "execution_count": 0,
      "outputs": []
    },
    {
      "cell_type": "markdown",
      "metadata": {
        "id": "iEQucU152h1S",
        "colab_type": "text"
      },
      "source": [
        "**Simple monte carlo option pricer**"
      ]
    },
    {
      "cell_type": "code",
      "metadata": {
        "id": "z4RLoviaBhB1",
        "colab_type": "code",
        "colab": {}
      },
      "source": [
        "def monte_carlo_option_pricer(Ticker,Maturity,Strike,impvol, r = -0.0031, iterations = 10**6,Put=False):\n",
        "  M = iterations\n",
        "  K = Strike\n",
        "  T = workdays.networkdays( datetime.today(), datetime.strptime(Maturity, '%Y-%m-%d') )/252 \n",
        "  S = today_value(Ticker)*np.ones(M)\n",
        "  dw = np.random.normal(0, np.sqrt(T), size=(1, M))\n",
        "  S = S * ( np.exp( (r - impvol**2/2)*T + impvol*dw))\n",
        "  if Put:\n",
        "    payoff = np.fmax(K-S,0)\n",
        "  else:\n",
        "    payoff = np.fmax(S-K,0)\n",
        "  price = np.exp(-r*T)*np.mean(payoff)\n",
        "  return price"
      ],
      "execution_count": 0,
      "outputs": []
    },
    {
      "cell_type": "code",
      "metadata": {
        "id": "TuuIh17nvFiU",
        "colab_type": "code",
        "outputId": "3804e005-e26e-465a-b775-0309abcf6839",
        "colab": {
          "base_uri": "https://localhost:8080/",
          "height": 34
        }
      },
      "source": [
        "monte_carlo_option_pricer([\"^OMX\"], '2020-07-20', 1670, 0.235, Put=False)"
      ],
      "execution_count": 0,
      "outputs": [
        {
          "output_type": "execute_result",
          "data": {
            "text/plain": [
              "59.07183705948702"
            ]
          },
          "metadata": {
            "tags": []
          },
          "execution_count": 36
        }
      ]
    },
    {
      "cell_type": "markdown",
      "metadata": {
        "id": "8D6yRWoZ2o1_",
        "colab_type": "text"
      },
      "source": [
        "**GARCH Volatility Functions**"
      ]
    },
    {
      "cell_type": "code",
      "metadata": {
        "id": "686-vPpVPESQ",
        "colab_type": "code",
        "colab": {}
      },
      "source": [
        "#GARCH helper functions\n",
        "def neg_GARCH_likelihood_function_variance_targetting(params,returns):\n",
        "    alpha,beta = params\n",
        "    omega = (returns.var().values)*(1-alpha-beta)\n",
        "    mu_sq = (returns**2).iloc[1:]\n",
        "    nu = np.zeros(np.size(mu_sq-1))#*returns.var()\n",
        "    log_likelihood = np.zeros(np.size(nu))\n",
        "    nu[0] = (returns**2).iloc[0]  \n",
        "    log_likelihood[0] = - np.log(nu[0]) - mu_sq.iloc[0]/nu[0]\n",
        "    for i in range(np.size(nu)-1):\n",
        "        nu[i+1] = omega + alpha*mu_sq.iloc[i]+beta*nu[i]\n",
        "        log_likelihood[i+1] = - np.log(nu[i+1]) - mu_sq.iloc[i+1]/nu[i+1]\n",
        "    return -sum(log_likelihood)\n",
        "\n",
        "def GARCH_fitting_variance_targetting(returns):\n",
        "    abstol = 1e-10\n",
        "    cons = ({'type': 'ineq', 'fun': lambda x: x - abstol})\n",
        "    init_guess = [0.08, 0.9]\n",
        "    opt_results = minimize(neg_GARCH_likelihood_function_variance_targetting, init_guess,args=returns,constraints = cons)\n",
        "    GarchParams = {\"alpha\" : opt_results.x[0],\"beta\":opt_results.x[1],\"omega\":list((returns.var().values)*(1-opt_results.x[0]-opt_results.x[1]))}\n",
        "    return GarchParams.values()\n",
        "\n",
        "#GARCH volatility\n",
        "def an_vol_GARCH_variance_targetting(returns, printResults = True):\n",
        "    alpha,beta,omega = GARCH_fitting_variance_targetting(returns)\n",
        "    mu_sq = (returns**2)#.iloc[1:]\n",
        "    nu = np.zeros(np.size(mu_sq-1))#*returns.var()\n",
        "    nu[0] = mu_sq.iloc[0]\n",
        "    for i in range(np.size(nu)-1):\n",
        "        nu[i+1] = omega + alpha*mu_sq.iloc[i]+beta*nu[i]\n",
        "    returns['vol'] = np.sqrt(nu*252) \n",
        "    if printResults:     \n",
        "      returns['vol'].plot(figsize=(20,16))\n",
        "      print(\"GarchParams: alpha = {alpha}, beta = {beta}, omega = {omega}\".format(alpha = alpha, beta = beta, omega = omega))\n",
        "      print(\"Current vol = {}\".format([returns['vol'].iloc[-1]]))\n",
        "      print(\"long run vol mean = {}\".format(np.sqrt(252*returns.var().values[0])))\n",
        "      plt.ylabel('GARCH Volatility')\n",
        "      plt.xlabel('Date')\n",
        "      plt.title(returns.columns[0] + ' GARCH(1,1) volatility plot with variance targetting')\n",
        "    return (returns['vol'].iloc[-1],alpha,beta,omega)\n",
        "#Volatility forecast with GARCH\n",
        "def Garch_average_vol_forecast(returns, endtime, starttime = datetime.today()):\n",
        "  k = (datetime.strptime(endtime, '%Y-%m-%d') - starttime).days\n",
        "  VL = returns.var().values\n",
        "  sigma,alpha,beta,omega = an_vol_GARCH_variance_targetting(returns, printResults=False)\n",
        "  avg_Variance = VL + ((sigma**2)/252 - VL)*sum([(alpha+beta)**t for t in range(1,k)]) / k\n",
        "  an_avg_vol = np.sqrt((avg_Variance*252))\n",
        "  return an_avg_vol"
      ],
      "execution_count": 0,
      "outputs": []
    },
    {
      "cell_type": "code",
      "metadata": {
        "id": "bUhrWqzQPyOZ",
        "colab_type": "code",
        "outputId": "f7da6a0d-f034-4ff9-ec3d-5ba9e5c26a4b",
        "colab": {
          "base_uri": "https://localhost:8080/",
          "height": 932
        }
      },
      "source": [
        "ticker = ['^OMX']\n",
        "warnings.filterwarnings(\"ignore\") #Filters RuntimeWarning: invalid value encountered in log\n",
        "output = an_vol_GARCH_variance_targetting(returns(ticker))\n",
        "warnings.filterwarnings(\"default\")"
      ],
      "execution_count": 0,
      "outputs": [
        {
          "output_type": "stream",
          "text": [
            "GarchParams: alpha = 0.133178213041418, beta = 0.8461109749888047, omega = [6.150208317317132e-06]\n",
            "Current vol = [0.28321983841004084]\n",
            "long run vol mean = 0.27355623675963714\n"
          ],
          "name": "stdout"
        },
        {
          "output_type": "display_data",
          "data": {
            "image/png": "[encoded data removed]",
            "text/plain": [
              "<Figure size 1440x1152 with 1 Axes>"
            ]
          },
          "metadata": {
            "tags": [],
            "needs_background": "light"
          }
        }
      ]
    },
    {
      "cell_type": "code",
      "metadata": {
        "id": "9LnImoKQwZgE",
        "colab_type": "code",
        "outputId": "d55f095c-481e-460d-fa75-8e2e7a00f73b",
        "colab": {
          "base_uri": "https://localhost:8080/",
          "height": 34
        }
      },
      "source": [
        "warnings.filterwarnings(\"ignore\") #Filters RuntimeWarning: invalid value encountered in log\n",
        "output = Garch_average_vol_forecast(returns([\"^OMX\"]), '2020-07-17')\n",
        "print(\"The forecasted average future volatility is {}\".format(output[0]))\n",
        "warnings.filterwarnings(\"default\")"
      ],
      "execution_count": 0,
      "outputs": [
        {
          "output_type": "stream",
          "text": [
            "The average volatility is 0.27972518891669423\n"
          ],
          "name": "stdout"
        }
      ]
    },
    {
      "cell_type": "markdown",
      "metadata": {
        "id": "po9hwh7U22TD",
        "colab_type": "text"
      },
      "source": [
        "**Option pricing using GARCH volatility**"
      ]
    },
    {
      "cell_type": "code",
      "metadata": {
        "id": "PfeLssoMQrtl",
        "colab_type": "code",
        "colab": {}
      },
      "source": [
        "###GARCH Option pricing with Monte Carlo###\n",
        "#Monte Carlo GARCH option pricer\n",
        "def Garch_option_pricer(Ticker,Maturity,Strike, r = -0.0031, iterations = 10**6, Put=False):\n",
        "  '''  \n",
        "  Calculates fair value of option by simulating the stock movement with the underlying real world GARCH volatility\n",
        "\n",
        "  Parameters:\n",
        "\n",
        "  Ticker - [\"^OMX\"]\n",
        "  \n",
        "  Maturity - Maturity date - format '2020-07-17'\n",
        "\n",
        "  Strike - Strike value\n",
        "\n",
        "  r - risk free rate\n",
        "\n",
        "  iterations - Number of simulated paths\n",
        "\n",
        "  put - True if put, False if Call\n",
        "  '''\n",
        "  myReturns = returns(Ticker)\n",
        "  initvol, alpha, beta, omega = an_vol_GARCH_variance_targetting(myReturns, printResults=False)\n",
        "  r = r/360 #risk free daily\n",
        "  M=iterations\n",
        "  K=Strike\n",
        "  T = workdays.networkdays( datetime.today(), datetime.strptime(Maturity, '%Y-%m-%d') ) \n",
        "  n=T #timesteps set equal to days to maturity\n",
        "  dt = T/n\n",
        "  nu = np.zeros((M,n))\n",
        "  nu[:,0] = (initvol**2)/252 #daily variance rate\n",
        "  S = np.zeros((M,n))\n",
        "  S[:,0] = today_value(Ticker)*np.ones(M)\n",
        "  for i in range(n-1):\n",
        "    dw = np.random.normal(0, np.sqrt(dt), size=(1, M))\n",
        "    S[:,i+1] = S[:,i] + r*S[:,i]*dt + (np.sqrt(nu[:,i]))*S[:,i]*dw  #Simulate stock one step forward with GARCH volatility\n",
        "    nu[:,i+1] = omega + alpha*((S[:,i+1]/S[:,i]-1)**2)+beta*nu[:,i] #Update GARCH variance rate estimate\n",
        "  if Put:\n",
        "    payoff = np.fmax(S[:,-1] - K,0)\n",
        "  else:\n",
        "    payoff = np.fmax(K - S[:,-1],0)#np.fmax(K - S[:,i+1],0)\n",
        "  price = np.exp(-r*T)*np.mean(payoff)\n",
        "  return price,initvol "
      ],
      "execution_count": 0,
      "outputs": []
    },
    {
      "cell_type": "code",
      "metadata": {
        "id": "et--SnhfvB9O",
        "colab_type": "code",
        "outputId": "8f787b94-9de5-4790-f234-bc22d8e9cbc0",
        "colab": {
          "base_uri": "https://localhost:8080/",
          "height": 34
        }
      },
      "source": [
        "warnings.filterwarnings(\"ignore\") #Filters RuntimeWarning: invalid value encountered in log\n",
        "output = Garch_option_pricer([\"^OMX\"], '2020-07-20', 1650)\n",
        "print(\"The price of the option is {}\".format(output[0]))\n",
        "warnings.filterwarnings(\"default\")"
      ],
      "execution_count": 0,
      "outputs": [
        {
          "output_type": "stream",
          "text": [
            "The price of the option is 53.82810093319055\n"
          ],
          "name": "stdout"
        }
      ]
    },
    {
      "cell_type": "markdown",
      "metadata": {
        "id": "9PSGQ_Zq4yZN",
        "colab_type": "text"
      },
      "source": [
        "**Screens market for undervalued options compared to the GARCH price**"
      ]
    },
    {
      "cell_type": "code",
      "metadata": {
        "id": "BpEZdEf94xuS",
        "colab_type": "code",
        "colab": {}
      },
      "source": [
        "##Screens stocks of S&P 500 for undervalued ATM call or put options\n",
        "def SPX_Option_Screener(numberOfStock = 500, call=True):\n",
        "  sp_table = pd.read_html('https://en.wikipedia.org/wiki/List_of_S%26P_500_companies')\n",
        "  sp_list = sp_table[0]['Symbol'].tolist()\n",
        "  #sp_list = sp_list[::round(len(sp_list)/numberOfStock)]\n",
        "  impvol_list = np.zeros(np.size(sp_list))\n",
        "  garchvol_list = np.zeros(np.size(sp_list))\n",
        "  maturity_list = np.size(sp_list)*[None]\n",
        "  spot_list = np.zeros(np.size(sp_list))\n",
        "  price_list = np.zeros(np.size(sp_list))\n",
        "  GARCH_price_list = np.zeros(np.size(sp_list))\n",
        "  ClosestATMStrike = np.zeros(np.size(sp_list))\n",
        "  BS_price_list = np.zeros(np.size(sp_list))\n",
        "  i=0\n",
        "  for yahooTicker in sp_list[0:numberOfStock]: \n",
        "    ticker = yf.Ticker(yahooTicker)\n",
        "    maturities = [datetime.strptime(x, '%Y-%m-%d') for x in ticker.options]\n",
        "    maturity_list[i] = min(maturities, key=lambda x:abs(x-(datetime.today() + relativedelta(months=+6)) ) ).strftime('%Y-%m-%d')\n",
        "    spot_list[i] = today_value([yahooTicker])\n",
        "    opt = ticker.option_chain(maturity_list[i])\n",
        "    ClosestATMStrike[i] = min(opt.calls.strike, key=lambda x:abs(x-spot_list[i]))\n",
        "    impvol_list[i] = (opt.calls.loc[opt.calls['strike'] == ClosestATMStrike[i]])[\"impliedVolatility\"].values\n",
        "    price_list[i] = (opt.calls.loc[opt.calls['strike'] == ClosestATMStrike[i]])[\"lastPrice\"].values\n",
        "    GARCH_price_list[i],garchvol_list[i] = Garch_option_pricer([yahooTicker], maturity_list[i] ,ClosestATMStrike[i], Put=False)\n",
        "    BS_price_list[i] = monte_carlo_option_pricer([yahooTicker], maturity_list[i],ClosestATMStrike[i], impvol_list[i], Put=False)\n",
        "    i=i+1\n",
        "  vol_frame = pd.DataFrame({'Ticker': sp_list, \"spot\" : spot_list, \"Maturity\" : maturity_list, \"strike\" : ClosestATMStrike, \"moneyness\" : ClosestATMStrike/spot_list,\n",
        "                            'ImpVol': impvol_list, 'Current GARCH hvol': garchvol_list, 'vol_diff': garchvol_list-impvol_list, 'GARCH_price': GARCH_price_list, 'Listed_price': price_list, \"BS_price (from impvol)\" : BS_price_list,\"GARCH_Price/BS_price\" : GARCH_price_list/BS_price_list \n",
        "                            })\n",
        "  return vol_frame"
      ],
      "execution_count": 0,
      "outputs": []
    },
    {
      "cell_type": "code",
      "metadata": {
        "id": "6WOOkPl55cRj",
        "colab_type": "code",
        "outputId": "a7f0e21c-55cd-4997-92bc-ca70526e7cc8",
        "colab": {
          "base_uri": "https://localhost:8080/",
          "height": 204
        }
      },
      "source": [
        "warnings.filterwarnings(\"ignore\") #Filters RuntimeWarning: invalid value encountered in log\n",
        "output = SPX_Option_Screener(numberOfStock = 5)\n",
        "warnings.filterwarnings(\"default\")\n",
        "output.head().sort_values(by = ['GARCH_Price/BS_price'], ascending=False)"
      ],
      "execution_count": 0,
      "outputs": [
        {
          "output_type": "execute_result",
          "data": {
            "text/html": [
              "<div>\n",
              "<style scoped>\n",
              "    .dataframe tbody tr th:only-of-type {\n",
              "        vertical-align: middle;\n",
              "    }\n",
              "\n",
              "    .dataframe tbody tr th {\n",
              "        vertical-align: top;\n",
              "    }\n",
              "\n",
              "    .dataframe thead th {\n",
              "        text-align: right;\n",
              "    }\n",
              "</style>\n",
              "<table border=\"1\" class=\"dataframe\">\n",
              "  <thead>\n",
              "    <tr style=\"text-align: right;\">\n",
              "      <th></th>\n",
              "      <th>Ticker</th>\n",
              "      <th>spot</th>\n",
              "      <th>Maturity</th>\n",
              "      <th>strike</th>\n",
              "      <th>moneyness</th>\n",
              "      <th>ImpVol</th>\n",
              "      <th>Current GARCH hvol</th>\n",
              "      <th>vol_diff</th>\n",
              "      <th>GARCH_price</th>\n",
              "      <th>Listed_price</th>\n",
              "      <th>BS_price (from impvol)</th>\n",
              "      <th>GARCH_Price/BS_price</th>\n",
              "    </tr>\n",
              "  </thead>\n",
              "  <tbody>\n",
              "    <tr>\n",
              "      <th>3</th>\n",
              "      <td>ABMD</td>\n",
              "      <td>222.42</td>\n",
              "      <td>2020-12-18</td>\n",
              "      <td>220.0</td>\n",
              "      <td>0.989120</td>\n",
              "      <td>0.500219</td>\n",
              "      <td>0.593127</td>\n",
              "      <td>0.092908</td>\n",
              "      <td>38.147219</td>\n",
              "      <td>29.23</td>\n",
              "      <td>34.270659</td>\n",
              "      <td>1.113116</td>\n",
              "    </tr>\n",
              "    <tr>\n",
              "      <th>2</th>\n",
              "      <td>ABBV</td>\n",
              "      <td>91.15</td>\n",
              "      <td>2020-11-20</td>\n",
              "      <td>90.0</td>\n",
              "      <td>0.987383</td>\n",
              "      <td>0.300361</td>\n",
              "      <td>0.356456</td>\n",
              "      <td>0.056095</td>\n",
              "      <td>9.051315</td>\n",
              "      <td>7.80</td>\n",
              "      <td>8.173299</td>\n",
              "      <td>1.107425</td>\n",
              "    </tr>\n",
              "    <tr>\n",
              "      <th>1</th>\n",
              "      <td>ABT</td>\n",
              "      <td>92.53</td>\n",
              "      <td>2020-11-20</td>\n",
              "      <td>92.5</td>\n",
              "      <td>0.999676</td>\n",
              "      <td>0.328620</td>\n",
              "      <td>0.337656</td>\n",
              "      <td>0.009036</td>\n",
              "      <td>8.159825</td>\n",
              "      <td>6.95</td>\n",
              "      <td>8.473039</td>\n",
              "      <td>0.963034</td>\n",
              "    </tr>\n",
              "    <tr>\n",
              "      <th>0</th>\n",
              "      <td>MMM</td>\n",
              "      <td>156.31</td>\n",
              "      <td>2020-11-20</td>\n",
              "      <td>155.0</td>\n",
              "      <td>0.991619</td>\n",
              "      <td>0.344245</td>\n",
              "      <td>0.350355</td>\n",
              "      <td>0.006110</td>\n",
              "      <td>14.851631</td>\n",
              "      <td>12.05</td>\n",
              "      <td>15.550381</td>\n",
              "      <td>0.955065</td>\n",
              "    </tr>\n",
              "    <tr>\n",
              "      <th>4</th>\n",
              "      <td>ACN</td>\n",
              "      <td>201.68</td>\n",
              "      <td>2020-11-20</td>\n",
              "      <td>200.0</td>\n",
              "      <td>0.991670</td>\n",
              "      <td>0.307716</td>\n",
              "      <td>0.222542</td>\n",
              "      <td>-0.085174</td>\n",
              "      <td>15.446964</td>\n",
              "      <td>14.90</td>\n",
              "      <td>18.081594</td>\n",
              "      <td>0.854292</td>\n",
              "    </tr>\n",
              "  </tbody>\n",
              "</table>\n",
              "</div>"
            ],
            "text/plain": [
              "  Ticker    spot  ... BS_price (from impvol)  GARCH_Price/BS_price\n",
              "3   ABMD  222.42  ...              34.270659              1.113116\n",
              "2   ABBV   91.15  ...               8.173299              1.107425\n",
              "1    ABT   92.53  ...               8.473039              0.963034\n",
              "0    MMM  156.31  ...              15.550381              0.955065\n",
              "4    ACN  201.68  ...              18.081594              0.854292\n",
              "\n",
              "[5 rows x 12 columns]"
            ]
          },
          "metadata": {
            "tags": []
          },
          "execution_count": 236
        }
      ]
    }
  ]
}