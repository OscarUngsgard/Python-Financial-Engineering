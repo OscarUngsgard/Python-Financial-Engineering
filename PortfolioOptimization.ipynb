{
  "nbformat": 4,
  "nbformat_minor": 0,
  "metadata": {
    "colab": {
      "name": "PortfolioOptimization.ipynb",
      "provenance": [],
      "authorship_tag": "ABX9TyNXSmSQzp8iwADAIdS87atW",
      "include_colab_link": true
    },
    "kernelspec": {
      "name": "python3",
      "display_name": "Python 3"
    }
  },
  "cells": [
    {
      "cell_type": "markdown",
      "metadata": {
        "id": "view-in-github",
        "colab_type": "text"
      },
      "source": [
        "<a href=\"https://colab.research.google.com/github/OscarUngsgard/Python-Financial-Engineering/blob/master/PortfolioOptimization.ipynb\" target=\"_parent\"><img src=\"https://colab.research.google.com/assets/colab-badge.svg\" alt=\"Open In Colab\"/></a>"
      ]
    },
    {
      "cell_type": "code",
      "metadata": {
        "id": "D8TWhGTYVDWR",
        "colab_type": "code",
        "cellView": "form",
        "colab": {}
      },
      "source": [
        "#@title Default title text\n",
        "Imports = \"\" #@param {type:\"string\"}\n",
        "#Imports\n",
        "from datetime import datetime\n",
        "from datetime import timedelta  \n",
        "#import datetime\n",
        "from dateutil.relativedelta import relativedelta\n",
        "from collections import defaultdict\n",
        "import os\n",
        "import sys, os\n",
        "import io\n",
        "import math\n",
        "\n",
        "import numpy as np\n",
        "from numpy import linspace\n",
        "\n",
        "import random\n",
        "from random import choices\n",
        "\n",
        "import pandas as pd\n",
        "import pandas_datareader as pdr\n",
        "from pandas_datareader import data as wb\n",
        "import pandas_datareader.data as web\n",
        "from pandas.plotting import register_matplotlib_converters\n",
        "\n",
        "from matplotlib import pyplot as plt\n",
        "from matplotlib.pyplot import figure\n",
        "%matplotlib inline\n",
        "register_matplotlib_converters()\n",
        "\n",
        "\n",
        "from pylab import plot,show,hist,figure,title\n",
        "\n",
        "!pip install yfinance\n",
        "import yfinance as yf\n",
        "!pip install yahoo_fin\n",
        "from yahoo_fin import options\n",
        "yf.pdr_override()\n",
        "\n",
        "from scipy import stats\n",
        "from scipy.stats import norm\n",
        "from scipy.optimize import minimize\n",
        "from scipy.optimize import basinhopping\n",
        "\n",
        "import statsmodels\n",
        "import statsmodels.api as sm\n",
        "from statsmodels.tsa.seasonal import seasonal_decompose\n",
        "from statsmodels.tsa.stattools import adfuller"
      ],
      "execution_count": 0,
      "outputs": []
    },
    {
      "cell_type": "code",
      "metadata": {
        "id": "F8rHQzaMJOFF",
        "colab_type": "code",
        "colab": {}
      },
      "source": [
        "#Functions to read in stock data\n",
        "def returns(YahooTickers, starttime = datetime.today()-relativedelta(months=+12)):   #format tickers = ['AXFO.ST','HM-B.ST','PCELL.ST','SOLT.ST']\n",
        "    mydata = pd.DataFrame()\n",
        "    for t in YahooTickers:\n",
        "        mydata[t] = yf.Ticker(t).history(start=starttime, end = datetime.today())[\"Close\"]\n",
        "        returns = np.log(mydata/mydata.shift(1))\n",
        "    #print(\"Number of null values filled: \")\n",
        "    #print(np.isnan(returns).sum())\n",
        "    returns.fillna(method='ffill', inplace=True) #NA = last value\n",
        "    returns = returns.apply(lambda x: x.fillna(x.mean()),axis=1) #NA = average of rows if never available.\n",
        "    return returns[1:]"
      ],
      "execution_count": 0,
      "outputs": []
    },
    {
      "cell_type": "code",
      "metadata": {
        "id": "8ba-C0JSJjto",
        "colab_type": "code",
        "colab": {}
      },
      "source": [
        "######Numerical Calculation Functions#########\n",
        "\n",
        "##Covariance Matrix Calculations\n",
        "#Helper functions to calculate Leodit Wolf covriance matrix with constant correlation shrinkage taret (See article: http://www.ledoit.net/honey.pdf)\n",
        "def cov_Matrix(returns, horizon = 252):\n",
        "    return returns.cov() * horizon\n",
        "\n",
        "def constant_corr_Matrix(returns):\n",
        "  horizon = 1\n",
        "  corrmat = returns.corr()\n",
        "  N = len(corrmat)\n",
        "  meancorr = 0\n",
        "  for i in range(N-1):\n",
        "    for j in range(i+1,N):\n",
        "      meancorr += corrmat.iloc[i,j]\n",
        "  meancorr *= (2/(N*(N-1)))\n",
        "  const_corr_mat = cov_Matrix(returns,horizon) / corrmat\n",
        "  for i in range(N-1):\n",
        "    for j in range(i+1,N):\n",
        "      const_corr_mat.iloc[i,j] *= meancorr\n",
        "      const_corr_mat.iloc[j,i] *= meancorr\n",
        "  return const_corr_mat\n",
        "def Shrinkage_Intensity(returns):\n",
        "  horizon = 1\n",
        "  ##corr_mean\n",
        "  corrmat = returns.corr()\n",
        "  N = len(corrmat)\n",
        "  meancorr = 0\n",
        "  for i in range(N-1):\n",
        "    for j in range(i+1,N):\n",
        "      meancorr += corrmat.iloc[i,j]\n",
        "  meancorr *= (2/(N*(N-1)))\n",
        "  ##pi\n",
        "  covmat = cov_Matrix(returns,horizon)\n",
        "  T = len(returns)\n",
        "  pi = 0\n",
        "  pidiag = 0\n",
        "  y = lambda i : (returns[returns.columns[i]])\n",
        "  for i in range(N):\n",
        "    for j in range(N): \n",
        "      thisPi=0\n",
        "      for t in range(T):\n",
        "        thisPi +=  (( (y(i)[t]-y(i).mean()) * (y(j)[t]-y(j).mean()) - covmat.iloc[i,j] )**2 )* (1/T)\n",
        "      pi += thisPi \n",
        "      if i==j:\n",
        "       pidiag += thisPi\n",
        "  ##rho\n",
        "  theta = lambda i,j : (1/T) * sum( ((y(i)-y(i).mean())**2 - covmat.iloc[i,i]) * ((y(i)-y(i).mean())*(y(j)-y(j).mean()) - covmat.iloc[i,j]) )\n",
        "  rho = pidiag\n",
        "  for i in range(N):\n",
        "    for j in range(N):\n",
        "        if j != i:\n",
        "          rho += (meancorr/2) * ( np.sqrt(covmat.iloc[j,j]/covmat.iloc[i,i]) * theta(i,j)  +  np.sqrt(covmat.iloc[i,i]/covmat.iloc[j,j]) * theta(j,i) ) \n",
        "  ##gamma\n",
        "  const_corr_mat = constant_corr_Matrix(returns)\n",
        "  gamma = 0\n",
        "  for i in range(N):\n",
        "    for j in range(N):\n",
        "      gamma += (const_corr_mat.iloc[i,j]-covmat.iloc[i,j])**2\n",
        "  ## k\n",
        "  k = (pi-rho)/gamma\n",
        "  ##Shrinkage intensity\n",
        "  delta = max( 0 , min( (k/T) , 1 ) )\n",
        "  return delta\n",
        "\n",
        "#########Leodit Wolf covriance matrix with constant correlation shrinkage taret########\n",
        "def cov_Matrix_Shrinked(returns,horizon = 252):\n",
        "  sample_covmat = cov_Matrix(returns,1)\n",
        "  shrinkage_target = constant_corr_Matrix(returns)\n",
        "  shrinkage_intensity = Shrinkage_Intensity(returns)\n",
        "  covmat_shrinked = shrinkage_intensity*shrinkage_target+(1-shrinkage_intensity)*sample_covmat\n",
        "  covmat_shrinked *= horizon\n",
        "  return covmat_shrinked\n",
        "\n",
        "##Portfolio vol\n",
        "def portfolio_vol_shrink(returns,weights,horizon=252):\n",
        "  if abs(sum(weights)-1)>0.01:\n",
        "      print(\"Weights must sum to 1.\")\n",
        "      return\n",
        "  weights = np.array(weights)\n",
        "  return (np.dot(weights.T, np.dot(cov_Matrix_Shrinked(returns,horizon),weights))) ** 0.5"
      ],
      "execution_count": 0,
      "outputs": []
    },
    {
      "cell_type": "code",
      "metadata": {
        "id": "SV2LPrPfK1YN",
        "colab_type": "code",
        "colab": {}
      },
      "source": [
        "###Miminimum Variance portfolio Helper function\n",
        "def minimum_variance_portfolio_weights_analytic(thisTickers, V0=1): #With shrinking\n",
        "  myreturns = returns(thisTickers)\n",
        "  covMat = cov_Matrix_Shrinked(myreturns)\n",
        "  covMatinv = np.linalg.inv(covMat)\n",
        "  numerator = covMatinv.dot(np.ones((myreturns).shape[1]))\n",
        "  denominator = np.ones((myreturns).shape[1]).dot(numerator)\n",
        "  w = np.round((numerator/denominator),3)\n",
        "  for x in range(len(w)):\n",
        "    if w[x]<0:\n",
        "      optimal_rel_weights_dict = { myreturns.columns[i] : np.round(w[i],3) for i in range(len(w)) }\n",
        "      print(\"rejected portfolio weights: {})\".format(optimal_rel_weights_dict))\n",
        "      thisTickers.pop(x)\n",
        "      w, *args = minimum_variance_portfolio_weights_analytic(thisTickers)\n",
        "      break\n",
        "  return_weights = np.round(w * V0,3)\n",
        "  return (return_weights,thisTickers)\n",
        "#### Miminum Variance Portfolio Calling function\n",
        "def minimum_variance_portfolio_weights_analytic_dict(tickers, V0=1):\n",
        "  thisTickers = tickers[:] #thisTickers will be modified\n",
        "  optimal_weights, optimal_tickers = minimum_variance_portfolio_weights_analytic(thisTickers,V0=1)\n",
        "  myreturns = returns(optimal_tickers)\n",
        "  minimum_vol_an = portfolio_vol_shrink(myreturns, optimal_weights, 252)\n",
        "  print(\"The minimum variance portfolio has {} volatility\".format(np.round(minimum_vol_an,5)))\n",
        "  optimal_abs_weights_dict = { myreturns.columns[i] : np.round(V0 * optimal_weights[i],3) for i in range(len(optimal_weights)) }\n",
        "  optimal_rel_weights_dict = { myreturns.columns[i] : np.round(optimal_weights[i],3) for i in range(len(optimal_weights)) }\n",
        "  print(\"Portfolio rel weights: {}\".format(optimal_rel_weights_dict))\n",
        "  print(\"Portfolio abs weights: {}\".format(optimal_abs_weights_dict))\n",
        "  return #optimal_abs_weights_dict"
      ],
      "execution_count": 0,
      "outputs": []
    },
    {
      "cell_type": "code",
      "metadata": {
        "id": "3T6omGGPLFGf",
        "colab_type": "code",
        "outputId": "a0cd1e71-7ed8-488c-815a-c1e38b045396",
        "colab": {
          "base_uri": "https://localhost:8080/",
          "height": 85
        }
      },
      "source": [
        "tickers = ['SF.ST' , 'STORY-B.ST','HNSA.ST','SINCH.ST','BETS-B.ST','LUN.TO','DOM.ST','PDX.ST'] \n",
        "minimum_variance_portfolio_weights_analytic_dict(tickers, 50000)"
      ],
      "execution_count": 0,
      "outputs": [
        {
          "output_type": "stream",
          "text": [
            "rejected portfolio weights: {'SF.ST': 0.155, 'STORY-B.ST': 0.154, 'HNSA.ST': -0.026, 'SINCH.ST': 0.083, 'BETS-B.ST': 0.108, 'LUN.TO': 0.068, 'DOM.ST': 0.12, 'PDX.ST': 0.338})\n",
            "The minimum variance portfolio has 0.29416 volatility\n",
            "Portfolio rel weights: {'SF.ST': 0.151, 'STORY-B.ST': 0.15, 'SINCH.ST': 0.076, 'BETS-B.ST': 0.102, 'LUN.TO': 0.06, 'DOM.ST': 0.115, 'PDX.ST': 0.346}\n",
            "Portfolio abs weights: {'SF.ST': 7550.0, 'STORY-B.ST': 7500.0, 'SINCH.ST': 3800.0, 'BETS-B.ST': 5100.0, 'LUN.TO': 3000.0, 'DOM.ST': 5750.0, 'PDX.ST': 17300.0}\n"
          ],
          "name": "stdout"
        }
      ]
    },
    {
      "cell_type": "code",
      "metadata": {
        "id": "cDgTIT_kNLxc",
        "colab_type": "code",
        "colab": {}
      },
      "source": [
        "###Helper functions for plotting out the efficient frontier\n",
        "def portfolio_vol(returns,weights,horizon=252):\n",
        "    if abs(sum(weights)-1)>0.01:\n",
        "        print(\"Weights must sum to 1.\")\n",
        "        return\n",
        "    weights = np.array(weights)\n",
        "    return (np.dot(weights.T, np.dot(cov_Matrix(returns,horizon),weights))) ** 0.5\n",
        "def stock_exp_returns(returns, horizon):\n",
        "    return returns.mean()*horizon\n",
        "def portolio_exp_returns(returns, weights,horizon):\n",
        "    if abs(sum(weights)-1)>0.01:\n",
        "        print(\"Weights must sum to 1.\")\n",
        "        return\n",
        "    weights = np.array(weights)\n",
        "    return np.dot(weights.T, stock_exp_returns(returns,horizon))\n",
        "def neg_sharpe(weights,returns):\n",
        "    return get_ret_vol_sr(returns,weights)[2] * (-1)\n",
        "def minimize_vol(weights,returns):\n",
        "    return get_ret_vol_sr(returns,weights)[1]\n",
        "def check_sum(weights):\n",
        "    return np.sum(weights)-1\n",
        "def get_ret_vol_sr(returns,weights):\n",
        "    vol = portfolio_vol(returns,weights, 252)\n",
        "    ret = portolio_exp_returns(returns, weights, 252)\n",
        "    SR = ret/vol\n",
        "    return np.array([ret,vol,SR])"
      ],
      "execution_count": 0,
      "outputs": []
    },
    {
      "cell_type": "code",
      "metadata": {
        "id": "hcZR0rw6LSDm",
        "colab_type": "code",
        "colab": {}
      },
      "source": [
        "####Plot out the entire efficient frontier with or without shortselling allowed. Expected returns calculated as average from historical values, in practice more refined estimations should be used.\n",
        "def efficient_frontier_minimize(tickers, stepsize=0.01, shortselling = False):\n",
        "    myreturns = returns(tickers)\n",
        "    cons = ({'type':'eq','fun':check_sum})\n",
        "    if not shortselling:\n",
        "      bounds = tuple(zip(np.zeros(len(tickers)),np.ones(len(tickers))))     \n",
        "    else:\n",
        "      bounds = None\n",
        "    init_guess = np.ones(len(tickers))*(1/len(tickers))\n",
        "    #efficient frontier\n",
        "    maxPossibleReturns = 3\n",
        "    frontier_returns = np.linspace(0,maxPossibleReturns,round(maxPossibleReturns/stepsize))\n",
        "    frontier_vol = []\n",
        "    frontier_weights = []\n",
        "    for possible_return in frontier_returns:\n",
        "        cons2 = ({'type':'eq','fun':check_sum}, {'type':'eq','fun':lambda w: get_ret_vol_sr(myreturns,w)[0]-possible_return})\n",
        "        opt_results2 = minimize(minimize_vol, init_guess,args=myreturns,method = 'SLSQP',bounds=bounds,constraints=cons2)\n",
        "        if frontier_vol[-1:] and math.isclose(opt_results2.fun,frontier_vol[-1]): ##Max possible return/volatility pair found. Needed for no shortselling\n",
        "          frontier_returns = np.resize(frontier_returns,len(frontier_vol))\n",
        "          break \n",
        "        frontier_vol.append(opt_results2.fun)\n",
        "        frontier_weights.append(opt_results2.x)\n",
        "    \n",
        "    tang_port_index = np.argmax(frontier_returns/frontier_vol)\n",
        "    optimal_portfolio_weights = frontier_weights[tang_port_index].round(3)\n",
        "    optimal_portfolio_weights_dict = {tickers[i] : optimal_portfolio_weights[i] for i in range(len(tickers))}\n",
        "    print(\"Tangency portfolio weights:\")\n",
        "    print(optimal_portfolio_weights_dict)\n",
        "    print(\"Expected return = {}\".format(get_ret_vol_sr(myreturns,optimal_portfolio_weights)[0]))\n",
        "    print(\"Volatility = {}\".format(get_ret_vol_sr(myreturns,optimal_portfolio_weights)[1]))\n",
        "    print(\"Sharpe Ratio = {}\".format(get_ret_vol_sr(myreturns,optimal_portfolio_weights)[2]))\n",
        "\n",
        "    min_var_index = np.argmin(frontier_vol)\n",
        "    min_variance_portfolio_weights = frontier_weights[min_var_index].round(3)\n",
        "    min_variance_portfolio_weights_dict = {tickers[i] : min_variance_portfolio_weights[i] for i in range(len(tickers))}\n",
        "    print(\"min_variance weights:\")\n",
        "    print(min_variance_portfolio_weights_dict)\n",
        "    print(\"Expected return = {}\".format(get_ret_vol_sr(myreturns,min_variance_portfolio_weights)[0]))\n",
        "    print(\"Volatility = {}\".format(get_ret_vol_sr(myreturns,min_variance_portfolio_weights)[1]))\n",
        "    print(\"Sharpe Ratio = {}\".format(get_ret_vol_sr(myreturns,min_variance_portfolio_weights)[2]))\n",
        "\n",
        "    plt.figure(figsize=(16,4));\n",
        "    plt.scatter(frontier_vol,frontier_returns)\n",
        "    plt.xlabel('Volatility')\n",
        "    plt.ylabel('Expected Return')\n",
        "    plt.title('Efficient Frontier') \n",
        "    plt.plot(get_ret_vol_sr(myreturns,optimal_portfolio_weights)[1],get_ret_vol_sr(myreturns,optimal_portfolio_weights)[0], marker='o', markersize=5, color=\"red\")\n",
        "    plt.annotate(\"Tangency Portfolio\",xy=(get_ret_vol_sr(myreturns,optimal_portfolio_weights)[1],get_ret_vol_sr(myreturns,optimal_portfolio_weights)[0])) \n",
        "    plt.plot(frontier_vol[min_var_index],frontier_returns[min_var_index], marker='o', markersize=5, color=\"red\")\n",
        "    plt.annotate(\"Min var Portfolio\",xy=(frontier_vol[min_var_index],frontier_returns[min_var_index]))\n",
        "    \n",
        "    return #optimal_portfolio_weights_dict, min_variance_portfolio_weights_dict"
      ],
      "execution_count": 0,
      "outputs": []
    },
    {
      "cell_type": "code",
      "metadata": {
        "id": "3Hj7-JW1PvSg",
        "colab_type": "code",
        "outputId": "124043f5-d7f4-4979-dbcd-d58a5efaa13d",
        "colab": {
          "base_uri": "https://localhost:8080/",
          "height": 964
        }
      },
      "source": [
        "tickers = ['SF.ST' , 'STORY-B.ST','HNSA.ST','BETS-B.ST','LUN.TO','DOM.ST','PDX.ST','AXFO.ST']\n",
        "print(\"With Shortselling\")\n",
        "efficient_frontier_minimize(tickers, shortselling = True)\n",
        "print()\n",
        "print(\"No shortselling allowed\")\n",
        "efficient_frontier_minimize(tickers, shortselling = False)"
      ],
      "execution_count": 0,
      "outputs": [
        {
          "output_type": "stream",
          "text": [
            "With Shortselling\n",
            "Tangency portfolio weights:\n",
            "{'SF.ST': 1.321, 'STORY-B.ST': 0.548, 'HNSA.ST': -0.331, 'BETS-B.ST': -0.093, 'LUN.TO': -0.19, 'DOM.ST': -0.57, 'PDX.ST': 0.484, 'AXFO.ST': -0.167}\n",
            "Expected return = 2.1871534161829187\n",
            "Volatility = 0.7356694879030585\n",
            "Sharpe Ratio = 2.973010913388767\n",
            "min_variance weights:\n",
            "{'SF.ST': 0.037, 'STORY-B.ST': 0.074, 'HNSA.ST': -0.005, 'BETS-B.ST': 0.077, 'LUN.TO': 0.012, 'DOM.ST': 0.109, 'PDX.ST': 0.14, 'AXFO.ST': 0.558}\n",
            "Expected return = 0.20114366635575592\n",
            "Volatility = 0.22590226152897405\n",
            "Sharpe Ratio = 0.8904012956504085\n",
            "\n",
            "No shortselling allowed\n",
            "Tangency portfolio weights:\n",
            "{'SF.ST': 0.64, 'STORY-B.ST': 0.196, 'HNSA.ST': 0.0, 'BETS-B.ST': 0.0, 'LUN.TO': 0.0, 'DOM.ST': 0.0, 'PDX.ST': 0.164, 'AXFO.ST': 0.0}\n",
            "Expected return = 0.882938069493358\n",
            "Volatility = 0.3718262835972063\n",
            "Sharpe Ratio = 2.374598323043325\n",
            "min_variance weights:\n",
            "{'SF.ST': 0.039, 'STORY-B.ST': 0.074, 'HNSA.ST': 0.0, 'BETS-B.ST': 0.076, 'LUN.TO': 0.011, 'DOM.ST': 0.107, 'PDX.ST': 0.139, 'AXFO.ST': 0.554}\n",
            "Expected return = 0.20085236071787943\n",
            "Volatility = 0.22549313102990423\n",
            "Sharpe Ratio = 0.8907249626652396\n"
          ],
          "name": "stdout"
        },
        {
          "output_type": "display_data",
          "data": {
            "image/png": "[encoded data removed]",
            "text/plain": [
              "<Figure size 1152x288 with 1 Axes>"
            ]
          },
          "metadata": {
            "tags": [],
            "needs_background": "light"
          }
        },
        {
          "output_type": "display_data",
          "data": {
            "image/png": "[encoded data removed]",
            "text/plain": [
              "<Figure size 1152x288 with 1 Axes>"
            ]
          },
          "metadata": {
            "tags": [],
            "needs_background": "light"
          }
        }
      ]
    }
  ]
}